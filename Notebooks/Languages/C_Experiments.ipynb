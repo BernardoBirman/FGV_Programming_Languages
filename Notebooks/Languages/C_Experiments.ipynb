{
 "cells": [
  {
   "cell_type": "markdown",
   "metadata": {},
   "source": [
    "### Introduction\n",
    "\n",
    "The C programming language is a general purpose programming language, which relates closely to the way machines work. Understanding how computer memory works is an important aspect of the C programming language. Although C can be considered as \"hard to learn\", C is in fact a very simple language, with very powerful capabilities.\n",
    "\n",
    "C is a very common language, and it is the language of many applications such as Windows, the Python interpreter, Git, and many many more.\n",
    "\n",
    "C is a compiled language - which means that in order to run it, the compiler (for example, GCC or Visual Studio) must take the code that we wrote, process it, and then create an executable file. This file can then be executed, and will do what we intended for the program to do.\n",
    "Our first program\n",
    "\n",
    "Every C program uses libraries, which give the ability to execute necessary functions. For example, the most basic function called printf, which prints to the screen, is defined in the stdio.h header file.\n",
    "\n",
    "To add the ability to run the printf command to our program, we must add following include derivative to our first line of the code:  \n",
    "\n",
    "The second part of the code is the actual code which we are going to write. The first code which will run will always reside in the main function. \n",
    "\n",
    "The int keyword indicates that the function main will return an integer - a simple number. The number which will be returned by the function indicates whether the program that we wrote worked correctly. If we want to say that our code was run successfully, we will return the number 0. A number greater than 0 will mean that the program that we wrote failed.  \n",
    "\n",
    "For this tutorial, we will return 0 to indicate that our program was successful:  \n",
    "\n",
    "Notice that every line in C must end with a semicolon, so that the compiler knows that a new line has started.\n",
    "\n",
    "Last but not least, we will need to call the function printf to print our sentence."
   ]
  },
  {
   "cell_type": "code",
   "execution_count": 3,
   "metadata": {
    "collapsed": false
   },
   "outputs": [
    {
     "name": "stderr",
     "output_type": "stream",
     "text": []
    },
    {
     "name": "stdout",
     "output_type": "stream",
     "text": [
      "Goodbye, World!"
     ]
    }
   ],
   "source": [
    "#include <stdio.h>\n",
    "\n",
    "int main() {\n",
    "  printf(\"Goodbye, World!\");\n",
    "  return 0;\n",
    "}"
   ]
  },
  {
   "cell_type": "markdown",
   "metadata": {},
   "source": [
    "### Variables and Types\n",
    "##### Data types\n",
    "\n",
    "C has several types of variables, but there are a few basic types:\n",
    "\n",
    "+ Integers - whole numbers which can be both positive and negative. Defined using char, int, short, long or long long.\n",
    "+ Unsigned integers - whole numbers which can only be positive. Defined using unsigned char, unsigned int, unsigned short, unsigned long or unsigned long long.\n",
    "+ Floating point numbers - real numbers (numbers with fractions). Defined using float and double.\n",
    "+ Structures - will be explained later, in the Structures section.\n",
    "\n",
    "The different types of variables define their bounds. A char can range only from -128 to 127, whereas a long can range from -2,147,483,648 to 2,147,483,647 (long and other numeric data types may have another range on different computers, for example - from –9,223,372,036,854,775,808 to 9,223,372,036,854,775,807 on 64-bit computer).\n",
    "\n",
    "Note that C does not have a boolean type. Usually, it is defined using the following notation:"
   ]
  },
  {
   "cell_type": "code",
   "execution_count": 11,
   "metadata": {
    "collapsed": false
   },
   "outputs": [
    {
     "name": "stderr",
     "output_type": "stream",
     "text": [
      "/usr/lib/gcc/x86_64-linux-gnu/6/../../../x86_64-linux-gnu/Scrt1.o: In function `_start':\n",
      "(.text+0x20): undefined reference to `main'\n",
      "collect2: error: ld returned 1 exit status\n",
      "[C kernel] GCC exited with code 1, the executable will not be executed"
     ]
    },
    {
     "name": "stdout",
     "output_type": "stream",
     "text": []
    }
   ],
   "source": [
    "#define BOOL char\n",
    "#define FALSE 0\n",
    "#define TRUE 1\n"
   ]
  },
  {
   "cell_type": "markdown",
   "metadata": {},
   "source": [
    "C uses arrays of characters to define strings, and will be explained in the Strings section.\n",
    "Defining variables\n",
    "\n",
    "For numbers, we will usually use the type int, which an integer in the size of a \"word\" the default number size of the machine which your program is compiled on. On most computers today, it is a 32-bit number, which means the number can range from -2,147,483,648 to 2,147,483,647.\n",
    "\n",
    "To define the variables foo and bar, we need to use the following syntax:"
   ]
  },
  {
   "cell_type": "code",
   "execution_count": 12,
   "metadata": {
    "collapsed": false
   },
   "outputs": [
    {
     "name": "stderr",
     "output_type": "stream",
     "text": [
      "/usr/lib/gcc/x86_64-linux-gnu/6/../../../x86_64-linux-gnu/Scrt1.o: In function `_start':\n",
      "(.text+0x20): undefined reference to `main'\n",
      "collect2: error: ld returned 1 exit status\n",
      "[C kernel] GCC exited with code 1, the executable will not be executed"
     ]
    },
    {
     "name": "stdout",
     "output_type": "stream",
     "text": []
    }
   ],
   "source": [
    "int foo;\n",
    "int bar = 1;\n"
   ]
  },
  {
   "cell_type": "markdown",
   "metadata": {},
   "source": [
    "The variable foo can be used, but since we did not initialize it, we don't know what's in it. The variable bar contains the number 1.\n",
    "Now, we can do some math. Assuming a, b, c, d, and e are variables, we can simply use plus, minus and multiplication operators in the following notation, and assign a new value to a:"
   ]
  },
  {
   "cell_type": "code",
   "execution_count": 10,
   "metadata": {
    "collapsed": false
   },
   "outputs": [
    {
     "name": "stderr",
     "output_type": "stream",
     "text": []
    },
    {
     "name": "stdout",
     "output_type": "stream",
     "text": [
      "11"
     ]
    }
   ],
   "source": [
    "#include <stdio.h>\n",
    "\n",
    "int main() {\n",
    "\n",
    "int a = 0,b = 1,c = 2,d = 3, e = 4;\n",
    "a = b - c + d * e;\n",
    "printf(\"%d\", a); /* will print 1-2+3*4 = 11 */\n",
    "\n",
    "}"
   ]
  },
  {
   "cell_type": "code",
   "execution_count": 13,
   "metadata": {
    "collapsed": false
   },
   "outputs": [
    {
     "name": "stderr",
     "output_type": "stream",
     "text": []
    },
    {
     "name": "stdout",
     "output_type": "stream",
     "text": [
      "The sum of a, b, and c is 12.750000."
     ]
    }
   ],
   "source": [
    "#include <stdio.h>\n",
    "\n",
    "int main() {\n",
    "  int a = 3;\n",
    "  float b = 4.5;\n",
    "  double c = 5.25;\n",
    "  float sum;\n",
    "  sum = a + b + c;\n",
    "\n",
    "  printf(\"The sum of a, b, and c is %f.\", sum);\n",
    "  return 0;\n",
    "}"
   ]
  },
  {
   "cell_type": "markdown",
   "metadata": {},
   "source": [
    "#### Arrays\n",
    "\n",
    "Arrays are special variables which can hold more than one value using the same variable, using an index. Arrays are defined in a very straightforward syntax:"
   ]
  },
  {
   "cell_type": "code",
   "execution_count": null,
   "metadata": {
    "collapsed": true
   },
   "outputs": [],
   "source": []
  }
 ],
 "metadata": {
  "kernelspec": {
   "display_name": "C",
   "language": "c",
   "name": "c_spec"
  },
  "language_info": {
   "file_extension": "c",
   "mimetype": "text/plain",
   "name": "c"
  }
 },
 "nbformat": 4,
 "nbformat_minor": 0
}
