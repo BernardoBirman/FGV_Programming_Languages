{
 "cells": [
  {
   "cell_type": "markdown",
   "metadata": {},
   "source": [
    "## Loop While \n",
    "\n",
    "Os $\\textit{loops While}$ são semelhantes aos $\\textit{loops For}$, mas têm menos funcionalidades. Um loop while continua a executar o bloco while enquanto a condição no while for mantida. Por exemplo, o código a seguir será executado exatamente dez vezes:"
   ]
  },
  {
   "cell_type": "code",
   "execution_count": 7,
   "metadata": {},
   "outputs": [
    {
     "name": "stderr",
     "output_type": "stream",
     "text": []
    },
    {
     "name": "stdout",
     "output_type": "stream",
     "text": []
    }
   ],
   "source": [
    "#include <stdio.h>\n",
    "int main()\n",
    "{\n",
    "int n = 0;\n",
    "while (n < 10) {\n",
    "    n++;\n",
    "}\n",
    "return 0;\n",
    "}"
   ]
  },
  {
   "cell_type": "markdown",
   "metadata": {},
   "source": [
    "O $\\textit{loops While}$ possui a estrutura:\n",
    "             \n",
    "                                         Iniciar a variável de controle\n",
    "                                         Enquanto (condição) faça\n",
    "                                         Início\n",
    "                                            Instruções;\n",
    "                                            Atualizar a variável de controle;\n",
    "                                         Fim;\n",
    "Ficando assim:\n",
    "\n",
    "                                        while (condição)\n",
    "                                        {\n",
    "                                        Instrução ou bloco de instruções;\n",
    "                                        }\n",
    "Exemplo:"
   ]
  },
  {
   "cell_type": "markdown",
   "metadata": {},
   "source": [
    "#### Diretrizes do loop\n",
    "\n",
    "Existem duas diretrizes de loop importantes que são usadas em conjunto com todos os tipos de loop em C - as diretrizes de interrupção ($\\textit{break}$) e continuação ($\\textit{continue}$).\n",
    "\n",
    "$\\textit{Break}$ interrompe um loop após dez loops, mesmo que o loop while nunca termine:"
   ]
  },
  {
   "cell_type": "code",
   "execution_count": 10,
   "metadata": {},
   "outputs": [
    {
     "name": "stderr",
     "output_type": "stream",
     "text": []
    },
    {
     "name": "stdout",
     "output_type": "stream",
     "text": []
    }
   ],
   "source": [
    "#include <stdio.h>\n",
    "int main()\n",
    "{\n",
    "int n = 0;\n",
    "while (1) {\n",
    "    n++;\n",
    "    if (n == 10) {\n",
    "        break;\n",
    "    }\n",
    "}\n",
    "return 0;\n",
    "}"
   ]
  },
  {
   "cell_type": "markdown",
   "metadata": {},
   "source": [
    "$\\textit{Continue}$ faz com que o comando printf seja ignorado, de modo que apenas números pares sejam impressos:"
   ]
  },
  {
   "cell_type": "code",
   "execution_count": 12,
   "metadata": {},
   "outputs": [
    {
     "name": "stderr",
     "output_type": "stream",
     "text": []
    },
    {
     "name": "stdout",
     "output_type": "stream",
     "text": [
      "The number 2 is even.\n",
      "The number 4 is even.\n",
      "The number 6 is even.\n",
      "The number 8 is even.\n",
      "The number 10 is even.\n"
     ]
    }
   ],
   "source": [
    "#include <stdio.h>\n",
    "int main()\n",
    "{\n",
    "int n = 0;\n",
    "while (n < 10) {\n",
    "    n++;\n",
    "\n",
    "    /* check that n is odd */\n",
    "    if (n % 2 == 1) {\n",
    "        /* go back to the start of the while block */\n",
    "        continue;\n",
    "    }\n",
    "\n",
    "    /* we reach this code only if n is even */\n",
    "    printf(\"The number %d is even.\\n\", n);\n",
    "}\n",
    "return 0;\n",
    "}"
   ]
  },
  {
   "cell_type": "markdown",
   "metadata": {},
   "source": [
    "### Exercício:\n",
    "\n",
    "A variável array consiste em uma sequência de 10 números. Dentro do loop while, você deve escrever duas condições que alteram o fluxo do loop da seguinte maneira (sem alterar o comando printf):\n",
    "- Se o número atual que está prestes a ser impresso for inferior a 5, não o imprima.\n",
    "- Se o número atual que está prestes a ser impresso for maior que 10, não o imprima e pare o loop.\n",
    "\n",
    "Observe que se você não avançar a variável do iterador i e usar o $\\textit{continue}$, você ficará preso em um loop infinito."
   ]
  },
  {
   "cell_type": "code",
   "execution_count": null,
   "metadata": {
    "collapsed": true
   },
   "outputs": [],
   "source": []
  }
 ],
 "metadata": {
  "kernelspec": {
   "display_name": "C",
   "language": "c",
   "name": "c"
  },
  "language_info": {
   "file_extension": "c",
   "mimetype": "text/plain",
   "name": "c"
  }
 },
 "nbformat": 4,
 "nbformat_minor": 2
}
