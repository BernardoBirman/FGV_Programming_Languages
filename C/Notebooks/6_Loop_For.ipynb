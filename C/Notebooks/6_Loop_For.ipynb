{
 "cells": [
  {
   "cell_type": "markdown",
   "metadata": {},
   "source": [
    "## Loop For:\n",
    "\n",
    "Loops $\\textit{FOR}$ em C são diretos. Eles fornecem a capacidade de criar um loop - um bloco de código que é executado várias vezes. O for requer uma variável de iterador, geralmente registrada como i.\n",
    "\n",
    "Esse loop nos fornece as seguintes funcionalidades:\n",
    "- Inicializa a variável do iterador usando um valor inicial\n",
    "- Verifica se o iterador atingiu seu valor final\n",
    "- Aumenta o iterador\n",
    "\n",
    "A ideia é:\n",
    "\n",
    "                                Para (valor inicial até condição_final passo n)faça\n",
    "                                Inicio\n",
    "                                Instruções;\n",
    "                                Fim;\n",
    "Ficando assim: \n",
    "\n",
    "                                for(valor_inicial; condição_final; valor_incremento)\n",
    "                                {\n",
    "                                instruções;\n",
    "                                }\n",
    "                                \n",
    "Por exemplo, se quisermos iterar em um bloco por 10 vezes, escrevemos:"
   ]
  },
  {
   "cell_type": "code",
   "execution_count": 3,
   "metadata": {},
   "outputs": [
    {
     "name": "stderr",
     "output_type": "stream",
     "text": []
    },
    {
     "name": "stdout",
     "output_type": "stream",
     "text": [
      "0\n",
      "1\n",
      "2\n",
      "3\n",
      "4\n",
      "5\n",
      "6\n",
      "7\n",
      "8\n",
      "9\n"
     ]
    }
   ],
   "source": [
    "#include <stdio.h>\n",
    "int main() \n",
    "{\n",
    "int i;\n",
    "for (i = 0; i < 10; i++) {\n",
    "    printf(\"%d\\n\", i);\n",
    "}\n",
    "return 0;\n",
    "}"
   ]
  },
  {
   "cell_type": "markdown",
   "metadata": {},
   "source": [
    "O loop $\\textit{FOR}$ pode iterar sobre os valores dos arrays. Por exemplo, se quisermos somar todos os valores de uma matriz, usaríamos o iterador i como índice de matrizes:"
   ]
  },
  {
   "cell_type": "code",
   "execution_count": 2,
   "metadata": {},
   "outputs": [
    {
     "name": "stderr",
     "output_type": "stream",
     "text": []
    },
    {
     "name": "stdout",
     "output_type": "stream",
     "text": [
      "Sum of the array is 55\n"
     ]
    }
   ],
   "source": [
    "#include <stdio.h>\n",
    "int main() \n",
    "{\n",
    "int array[10] = { 1, 2, 3, 4, 5, 6, 7, 8, 9, 10 };\n",
    "int sum = 0;\n",
    "int i;\n",
    "\n",
    "for (i = 0; i < 10; i++) {\n",
    "    sum += array[i];\n",
    "}\n",
    "printf(\"Sum of the array is %d\\n\", sum);\n",
    "return 0;\n",
    "}"
   ]
  },
  {
   "cell_type": "markdown",
   "metadata": {},
   "source": [
    "### Exercício:\n",
    "\n",
    "Calcule o fatorial (multiplicação de todos os termos array[0] até array[9], inclusive) da variável array."
   ]
  },
  {
   "cell_type": "code",
   "execution_count": null,
   "metadata": {
    "collapsed": true
   },
   "outputs": [],
   "source": []
  },
  {
   "cell_type": "code",
   "execution_count": null,
   "metadata": {
    "collapsed": true
   },
   "outputs": [],
   "source": []
  }
 ],
 "metadata": {
  "kernelspec": {
   "display_name": "C",
   "language": "c",
   "name": "c"
  },
  "language_info": {
   "file_extension": "c",
   "mimetype": "text/plain",
   "name": "c"
  }
 },
 "nbformat": 4,
 "nbformat_minor": 2
}
