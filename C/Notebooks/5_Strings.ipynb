{
 "cells": [
  {
   "cell_type": "markdown",
   "metadata": {},
   "source": [
    "## Strings\n",
    "\n",
    "As strings em C são matrizes de caracteres. Embora os ponteiros em C estejam no assunto avançado explicados mais adiante, usaremos ponteiros para uma matriz de caracteres para definir strings simples, da seguinte maneira:\n",
    "\n",
    "char * name = \"John Smith\";\n",
    "\n",
    "Esse método cria uma string que só podemos usar para leitura. Se quisermos definir uma string que possa ser manipulada, precisamos defini-la como uma matriz de caracteres locais:\n",
    "\n",
    "char name[ ] = \"John Smith\"\n",
    "\n",
    "Essa notação é diferente porque aloca uma variável de matriz para que possamos manipulá-la. A notação de colchetes vazios [] indica ao compilador para calcular o tamanho da matriz automaticamente. Isso é de fato o mesmo que alocá-lo explicitamente, adicionando um ao comprimento da seqüência de caracteres:\n",
    "\n",
    "char name[11] = \"John Smith\";\n",
    "\n",
    "O motivo pelo qual precisamos adicionar um, embora a string John Smith tenha exatamente 10 caracteres, é para a terminação da string, um caractere especial (igual a 0) que indica o fim da string. O fim da seqüência de caracteres está marcado porque o programa não conhece o comprimento da string - apenas o compilador conhece de acordo com o código."
   ]
  },
  {
   "cell_type": "markdown",
   "metadata": {},
   "source": [
    "### Uso do printf"
   ]
  },
  {
   "cell_type": "markdown",
   "metadata": {},
   "source": [
    "O comando $\\textit{printf}$ pode ser usado para formatar uma string junto com outras strings, da seguinte maneira:"
   ]
  },
  {
   "cell_type": "code",
   "execution_count": 2,
   "metadata": {},
   "outputs": [
    {
     "name": "stderr",
     "output_type": "stream",
     "text": []
    },
    {
     "name": "stdout",
     "output_type": "stream",
     "text": [
      "John Smith is 27 years old. \n"
     ]
    }
   ],
   "source": [
    "#include <stdio.h>\n",
    "int main()\n",
    "{\n",
    "char * name = \"John Smith\";\n",
    "int age = 27;\n",
    "printf(\"%s is %d years old. \\n\", name, age);\n",
    "return 0;\n",
    "}"
   ]
  },
  {
   "cell_type": "markdown",
   "metadata": {},
   "source": [
    "Observe que ao imprimir os caracteres, devemos adicionar um caractere da nova linha (\\n) para que nossa próxima declaração printf seja impressa em uma nova linha."
   ]
  },
  {
   "cell_type": "markdown",
   "metadata": {},
   "source": [
    "### Tamanho de uma String\n",
    "\n",
    "A função $\\textit{strlen}$ retorna o tamanho da string, que deverá ser passada como argumento"
   ]
  },
  {
   "cell_type": "code",
   "execution_count": 8,
   "metadata": {},
   "outputs": [
    {
     "name": "stderr",
     "output_type": "stream",
     "text": [
      "/tmp/tmpiw8g7hni.c: In function ‘main’:\n",
      "/tmp/tmpiw8g7hni.c:6:10: warning: format ‘%d’ expects argument of type ‘int’, but argument 2 has type ‘size_t {aka long unsigned int}’ [-Wformat=]\n",
      " printf(\"%d\\n\",strlen(name));\n",
      "          ^\n"
     ]
    },
    {
     "name": "stdout",
     "output_type": "stream",
     "text": [
      "25\n"
     ]
    }
   ],
   "source": [
    "#include <stdio.h>\n",
    "#include <string.h>\n",
    "int main()\n",
    "{\n",
    "char * name = \"Linguagens de Programacao\";\n",
    "printf(\"%d\\n\",strlen(name));\n",
    "return 0;\n",
    "}"
   ]
  },
  {
   "cell_type": "markdown",
   "metadata": {},
   "source": [
    "### Comparação de Strings\n",
    "\n",
    "A função $\\textit{strncmp}$ é usada para a comparação entre duas strings, retornando o número 0 se forem iguais ou um número diferente se forem diferentes. Os argumentos são as duas strings a serem comparadas e o comprimento de comparação máximo. Há também uma versão não segura desta função chamada strcmp, mas não é recomendável usá-la. Por exemplo:"
   ]
  },
  {
   "cell_type": "code",
   "execution_count": 9,
   "metadata": {},
   "outputs": [
    {
     "name": "stderr",
     "output_type": "stream",
     "text": []
    },
    {
     "name": "stdout",
     "output_type": "stream",
     "text": [
      "Hello, John!\n"
     ]
    }
   ],
   "source": [
    "#include <stdio.h>\n",
    "#include <string.h>\n",
    "int main()\n",
    "{\n",
    "char * name = \"John\";\n",
    "if (strncmp(name, \"John\", 4) == 0) {\n",
    "    printf(\"Hello, John!\\n\");\n",
    "} \n",
    "else \n",
    "{\n",
    "    printf(\"You are not John. Go away. \\n\");\n",
    "}\n",
    "return 0;\n",
    "}"
   ]
  },
  {
   "cell_type": "code",
   "execution_count": 11,
   "metadata": {},
   "outputs": [
    {
     "name": "stderr",
     "output_type": "stream",
     "text": []
    },
    {
     "name": "stdout",
     "output_type": "stream",
     "text": [
      "You are not John. Go away. \n"
     ]
    }
   ],
   "source": [
    "#include <stdio.h>\n",
    "#include <string.h>\n",
    "int main()\n",
    "{\n",
    "char * name = \"Alice\";\n",
    "if (strncmp(name, \"John\", 4) == 0) {\n",
    "    printf(\"Hello, John!\\n\");\n",
    "} \n",
    "else \n",
    "{\n",
    "    printf(\"You are not John. Go away. \\n\");\n",
    "}\n",
    "return 0;\n",
    "}"
   ]
  },
  {
   "cell_type": "markdown",
   "metadata": {},
   "source": [
    "### Concatenação de Strings\n",
    "\n",
    "A função $\\textit{strncat}$ acrescenta os primeiros n caracteres de seqüência de caracteres src à cadeia de destino onde n é min (n, comprimento (src)). Os argumentos passados são string de destino, string de origem e n - número máximo de caracteres a serem anexados. Exemplo de exemplo:\n"
   ]
  },
  {
   "cell_type": "code",
   "execution_count": 12,
   "metadata": {},
   "outputs": [
    {
     "name": "stderr",
     "output_type": "stream",
     "text": []
    },
    {
     "name": "stdout",
     "output_type": "stream",
     "text": [
      "HelloWor\n",
      "HelloWorWorld\n"
     ]
    }
   ],
   "source": [
    "#include <stdio.h>\n",
    "#include <string.h>\n",
    "int main()\n",
    "{\n",
    "char dest[20]=\"Hello\";\n",
    "char src[20]=\"World\";\n",
    "strncat(dest,src,3);\n",
    "printf(\"%s\\n\",dest);\n",
    "strncat(dest,src,20);\n",
    "printf(\"%s\\n\",dest);\n",
    "return 0;\n",
    "}"
   ]
  },
  {
   "cell_type": "markdown",
   "metadata": {},
   "source": [
    "### Exercício:\n",
    "Defina a string $\\textit{first_name}$ com o valor $\\textit{John}$, usando a notação de ponteiro, e defina a string $\\textit{last_name}$ com o valor $\\textit{Doe}$, usando a notação local de array."
   ]
  },
  {
   "cell_type": "code",
   "execution_count": null,
   "metadata": {
    "collapsed": true
   },
   "outputs": [],
   "source": []
  }
 ],
 "metadata": {
  "kernelspec": {
   "display_name": "C",
   "language": "c",
   "name": "c"
  },
  "language_info": {
   "file_extension": "c",
   "mimetype": "text/plain",
   "name": "c"
  }
 },
 "nbformat": 4,
 "nbformat_minor": 2
}
