{
 "cells": [
  {
   "cell_type": "markdown",
   "metadata": {},
   "source": [
    "1 - Quais são as estruturas de dados primitivas mais comuns na linguagem Python? Exemplifique criando variáveis de cada uma destas estruturas."
   ]
  },
  {
   "cell_type": "code",
   "execution_count": null,
   "metadata": {
    "collapsed": true
   },
   "outputs": [],
   "source": [
    "# Tipos numéricos\n",
    "a = 12 # inteiro\n",
    "b = 23.5 #float\n",
    "c = 5 + 2j #complexo\n",
    "\n",
    "#Tipo string\n",
    "d = 'Uma string'\n",
    "\n",
    "#Tipo lista\n",
    "e = ['item', 34, 2.5, 'outro item']\n",
    "\n",
    "#Tipo tupla\n",
    "f = ('item', 34, 2.5, 'outro item')\n",
    "\n",
    "#Tipo conjunto\n",
    "g = {'item', 34, 2.5, 'outro item'}\n",
    "\n",
    "#Tipo Dicionário\n",
    "h = {'chave1': 'valor1', 'chave2':'valor2', 'chave3':34}\n",
    "\n",
    "#Tipo Booleano\n",
    "i = True\n",
    "j = 3 == 34\n",
    "\n",
    "#Tipo None\n",
    "k = None"
   ]
  },
  {
   "cell_type": "markdown",
   "metadata": {},
   "source": [
    "2 - Dê pelo menos 5 exemplos de conversões entre tipos de dados, utilizando as variáveis criadas na questão anterior  "
   ]
  },
  {
   "cell_type": "code",
   "execution_count": null,
   "metadata": {
    "collapsed": true
   },
   "outputs": [],
   "source": [
    "numero = int('12')\n",
    "inteiro = int(23.56)\n",
    "conjunto = set([1,3,4,6,7,2,2])\n",
    "lista = list({2,5,3,8,6})\n",
    "tupla = tuple([2,4,6,8,6,4])"
   ]
  },
  {
   "cell_type": "markdown",
   "metadata": {},
   "source": [
    "3- Exemplifique o uso de algumas primitivas, de forma isolada ou combinada, para criar as seguintes estruturas de dados:  \n",
    "\n",
    "+ Um registro médico\n",
    "+ Uma matriz de pixels em formato RGB\n",
    "+ Um conjunto de coordenadas geográficas representando a sede da prefeitura e do corpo de bombeiros em 4 cidades diferentes"
   ]
  },
  {
   "cell_type": "code",
   "execution_count": 3,
   "metadata": {
    "collapsed": true
   },
   "outputs": [],
   "source": [
    "pacientes = {'Pedro': {'Peso':73, 'Altura':183},\n",
    "             'Matheus': {'Peso':65, 'Altura':167}}"
   ]
  },
  {
   "cell_type": "code",
   "execution_count": 4,
   "metadata": {
    "collapsed": true
   },
   "outputs": [],
   "source": [
    "matriz = [[(2,4,4), (1,5,8), (2,9,3)],\n",
    "          [(2,4,4), (1,5,8), (2,9,3)],\n",
    "          [(2,4,4), (1,5,8), (2,9,3)]]"
   ]
  },
  {
   "cell_type": "code",
   "execution_count": 1,
   "metadata": {
    "collapsed": true
   },
   "outputs": [],
   "source": [
    "locais = {'Rio de Janeiro': {'Prefeitura':(-22.959821, -43.202051),\n",
    "                             'Bombeiros':(-22.975763, -43.193262)},\n",
    "          'Sao Paulo': {'Prefeitura':(-22.959821, -43.202051),\n",
    "                        'Bombeiros':(-22.975763, -43.193262)},\n",
    "          'Belo Horizonte': {'Prefeitura':(-22.959821, -43.202051),\n",
    "                             'Bombeiros':(-22.975763, -43.193262)},\n",
    "          'Vitória': {'Prefeitura':(-22.959821, -43.202051),\n",
    "                      'Bombeiros':(-22.975763, -43.193262)},}"
   ]
  },
  {
   "cell_type": "markdown",
   "metadata": {},
   "source": [
    "4- Exemplifique o acesso aos elementos de informação das estruturas criadas na questão anterior."
   ]
  },
  {
   "cell_type": "code",
   "execution_count": 6,
   "metadata": {},
   "outputs": [
    {
     "data": {
      "text/plain": [
       "65"
      ]
     },
     "execution_count": 6,
     "metadata": {},
     "output_type": "execute_result"
    }
   ],
   "source": [
    "pacientes['Matheus']['Peso']"
   ]
  },
  {
   "cell_type": "code",
   "execution_count": 5,
   "metadata": {},
   "outputs": [
    {
     "data": {
      "text/plain": [
       "(1, 5, 8)"
      ]
     },
     "execution_count": 5,
     "metadata": {},
     "output_type": "execute_result"
    }
   ],
   "source": [
    "matriz[2][1]"
   ]
  },
  {
   "cell_type": "code",
   "execution_count": 2,
   "metadata": {},
   "outputs": [
    {
     "data": {
      "text/plain": [
       "(-22.959821, -43.202051)"
      ]
     },
     "execution_count": 2,
     "metadata": {},
     "output_type": "execute_result"
    }
   ],
   "source": [
    "locais['Belo Horizonte']['Prefeitura']"
   ]
  },
  {
   "cell_type": "markdown",
   "metadata": {},
   "source": [
    "5- Explique o que são, exemplifique, e mostre algumas características de:  \n",
    "\n",
    "+ Tipos mutáveis e tipos imutáveis  \n",
    "+ Tipos \"container\"\n",
    "+ Tipos sequenciais\n"
   ]
  },
  {
   "cell_type": "code",
   "execution_count": null,
   "metadata": {
    "collapsed": true
   },
   "outputs": [],
   "source": [
    "#Tipos mutáveis podem ser modificados\n",
    "lista = [1,2,3,4] #exemplo de tipo mutável\n",
    "lista.append(3)\n",
    "print(lista)"
   ]
  },
  {
   "cell_type": "code",
   "execution_count": null,
   "metadata": {
    "collapsed": true
   },
   "outputs": [],
   "source": [
    "#Tipos imutáveis não podem ser modificados\n"
   ]
  },
  {
   "cell_type": "code",
   "execution_count": null,
   "metadata": {
    "collapsed": true
   },
   "outputs": [],
   "source": []
  },
  {
   "cell_type": "markdown",
   "metadata": {},
   "source": [
    "6- Exemplifique chamadas de métodos em variáveis associadas a tipos de dados que:  \n",
    "+ Não modifiquem a variável e não retornem valores à chamada do método \n",
    "+ Modifiquem a variável mas não retornem valores à chamada do método\n",
    "+ Não modifiquem a variável mas retornem valores à chamada do método\n",
    "+ Modifiquem a variável e retornem valores à chamada do método  "
   ]
  },
  {
   "cell_type": "code",
   "execution_count": null,
   "metadata": {
    "collapsed": true
   },
   "outputs": [],
   "source": []
  },
  {
   "cell_type": "code",
   "execution_count": null,
   "metadata": {
    "collapsed": true
   },
   "outputs": [],
   "source": []
  },
  {
   "cell_type": "code",
   "execution_count": null,
   "metadata": {
    "collapsed": true
   },
   "outputs": [],
   "source": []
  },
  {
   "cell_type": "code",
   "execution_count": null,
   "metadata": {
    "collapsed": true
   },
   "outputs": [],
   "source": []
  },
  {
   "cell_type": "markdown",
   "metadata": {},
   "source": [
    "7- Exemplifique o uso de métodos para:  \n",
    "+ Testar se uma string pode ser convertida para um inteiro  \n",
    "+ Testar se um conjunto é subconjunto de outro\n",
    "+ Concatenar duas listas\n",
    "+ Contar as ocorrências de um elemento em uma lista"
   ]
  },
  {
   "cell_type": "code",
   "execution_count": null,
   "metadata": {
    "collapsed": true
   },
   "outputs": [],
   "source": []
  },
  {
   "cell_type": "code",
   "execution_count": null,
   "metadata": {
    "collapsed": true
   },
   "outputs": [],
   "source": []
  },
  {
   "cell_type": "code",
   "execution_count": null,
   "metadata": {
    "collapsed": true
   },
   "outputs": [],
   "source": []
  },
  {
   "cell_type": "code",
   "execution_count": null,
   "metadata": {
    "collapsed": true
   },
   "outputs": [],
   "source": []
  },
  {
   "cell_type": "markdown",
   "metadata": {},
   "source": [
    "Deescreva, em linhas gerais, o que é uma linguagem de programação, e para que serve.  "
   ]
  },
  {
   "cell_type": "code",
   "execution_count": null,
   "metadata": {
    "collapsed": true
   },
   "outputs": [],
   "source": []
  },
  {
   "cell_type": "markdown",
   "metadata": {},
   "source": [
    "Feedback: o que você está achando do curso até agora?  "
   ]
  },
  {
   "cell_type": "markdown",
   "metadata": {},
   "source": []
  }
 ],
 "metadata": {
  "kernelspec": {
   "display_name": "Python 3",
   "language": "python",
   "name": "python3"
  },
  "language_info": {
   "codemirror_mode": {
    "name": "ipython",
    "version": 3
   },
   "file_extension": ".py",
   "mimetype": "text/x-python",
   "name": "python",
   "nbconvert_exporter": "python",
   "pygments_lexer": "ipython3",
   "version": "3.5.2+"
  }
 },
 "nbformat": 4,
 "nbformat_minor": 2
}
