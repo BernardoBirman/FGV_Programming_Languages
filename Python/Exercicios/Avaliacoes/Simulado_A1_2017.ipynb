{
 "cells": [
  {
   "cell_type": "markdown",
   "metadata": {},
   "source": [
    "A1 de Linguagens de Programação – 28/09/2017\n",
    "--\n",
    "Professor: Renato Rocha Souza  \n",
    "--"
   ]
  },
  {
   "cell_type": "markdown",
   "metadata": {},
   "source": [
    "Nome do Aluno(a):"
   ]
  },
  {
   "cell_type": "code",
   "execution_count": 1,
   "metadata": {},
   "outputs": [
    {
     "name": "stdout",
     "output_type": "stream",
     "text": [
      "Entre com o seu nome completo: Renato Rocha Souza\n",
      "Olá, Renato Rocha Souza!\n",
      "Bom trabalho!\n"
     ]
    }
   ],
   "source": [
    "meu_nome = input('Entre com o seu nome completo: ')\n",
    "print('Olá, {}!'.format(meu_nome))\n",
    "print('Bom trabalho!')"
   ]
  },
  {
   "cell_type": "code",
   "execution_count": 2,
   "metadata": {
    "collapsed": true
   },
   "outputs": [],
   "source": [
    "# Somente estes módulos podem ser importados para a realização das questões\n",
    "import numpy as np\n",
    "import matplotlib.pyplot as plt\n",
    "import requests\n",
    "import random\n",
    "import re\n",
    "import string\n",
    "import time\n",
    "from bs4 import BeautifulSoup as bs\n",
    "from IPython.display import clear_output\n",
    "%matplotlib inline"
   ]
  },
  {
   "cell_type": "markdown",
   "metadata": {},
   "source": [
    "Questão 1 (1,5 pontos)  \n",
    "\n",
    "\n",
    "Mostre graficamente (usando matplotlib) que as funções:  \n",
    "$ y = 2x^2 - 10x -32$  \n",
    "e  \n",
    "$ y = 2x^3 - 12x^2 +4x +2$  \n",
    "possuem, respectivamente, 2 e 3 raízes reais e distintas.  "
   ]
  },
  {
   "cell_type": "code",
   "execution_count": 3,
   "metadata": {},
   "outputs": [
    {
     "data": {
      "image/png": "[encoded data removed]",
      "text/plain": [
       "<matplotlib.figure.Figure at 0x7f1ef0416eb8>"
      ]
     },
     "metadata": {},
     "output_type": "display_data"
    }
   ],
   "source": [
    "x = np.linspace(-100, 100, 10000)\n",
    "y1 = 2*x**2 - 10*x - 32\n",
    "y2 = 2*x**3 - 12*x**2 + 4*x +2\n",
    "y3 = np.zeros(10000)\n",
    "\n",
    "fig, ax = plt.subplots(1,2, figsize=(12,8))\n",
    "ax[0].plot(x,y1)\n",
    "ax[0].plot(x,y3)\n",
    "ax[0].set_xlim([-30,30])\n",
    "ax[0].set_ylim([-55,400])\n",
    "\n",
    "ax[1].plot(x,y2)\n",
    "ax[1].plot(x,y3)\n",
    "ax[1].set_xlim([-10,12])\n",
    "ax[1].set_ylim([-50,10])\n",
    "\n",
    "plt.show()"
   ]
  },
  {
   "cell_type": "markdown",
   "metadata": {},
   "source": [
    "Questão 2 (2.5 pontos)  \n",
    "\n",
    "Partindo do código abaixo, escreva comandos para realizar as seguintes tarefas:\n",
    "- Identificar as 10 palavras mais frequentes, independente de possuírem letras maiúsculas ou minúsculas;\n",
    "- Identificar os trechos em que há uma citação de fala de personagens (entre aspas);\n",
    "- Identificar as 5 letras mais comuns no final de palavras;\n",
    "- Salvar os resultados em um arquivo chamado \"respostas_q2.txt\" no computador"
   ]
  },
  {
   "cell_type": "code",
   "execution_count": 4,
   "metadata": {
    "collapsed": true
   },
   "outputs": [],
   "source": [
    "url = 'http://www.releituras.com/guimarosa_margem.asp'\n",
    "page = requests.get(url)\n",
    "html = page.text\n",
    "sopa = bs(html, \"lxml\")\n",
    "texto = sopa.text"
   ]
  },
  {
   "cell_type": "code",
   "execution_count": 5,
   "metadata": {
    "collapsed": true
   },
   "outputs": [],
   "source": [
    "#primeiro item\n",
    "\n",
    "texto = texto.replace('\\n',' ')\n",
    "texto = texto.replace('\\r',' ')\n",
    "texto = re.sub(' +',' ', texto)  #elimina múltiplos espaços em branco\n",
    "lista = texto.split()\n",
    "lista = [l.lower().strip(string.punctuation) for l in lista]\n",
    "\n",
    "def freqdist(iterable):\n",
    "    dic_freq = {}\n",
    "    for elem in iterable:\n",
    "        if elem in dic_freq:\n",
    "            dic_freq[elem] += 1\n",
    "        else:\n",
    "            dic_freq[elem] = 1\n",
    "    return dic_freq\n",
    "\n",
    "freqs = freqdist(lista)\n",
    "\n",
    "#https://stackoverflow.com/questions/613183/how-to-sort-a-dictionary-by-value\n",
    "ordered_freqs = sorted(freqs.items(), key=lambda x: x[1]) \n",
    "#print(ordered_freqs)\n",
    "\n",
    "#segundo item\n",
    "\n",
    "#https://stackoverflow.com/questions/2402797/regex-find-characters-between\n",
    "citacoes = re.findall(r'\"(.*?)\"',texto)\n",
    "#print(citacoes)\n",
    "\n",
    "#terceiro item\n",
    "\n",
    "ultimas = [l for l in lista if len(l) > 0]\n",
    "ultimas = [l[-1] for l in ultimas]\n",
    "freqs2 = freqdist(ultimas)\n",
    "ordered_freqs2 = sorted(freqs2.items(), key=lambda x: x[1])\n",
    "#print(ordered_freqs2)\n",
    "\n",
    "#quarto item\n",
    "\n",
    "with open('respostas_q2.txt','w') as f:\n",
    "    for key,value in ordered_freqs:\n",
    "        f.write('{},{}\\n'.format(key,value))\n",
    "    f.write('\\n')\n",
    "    for citacao in citacoes:\n",
    "        f.write('{}\\n'.format(citacao))\n",
    "    f.write('\\n')\n",
    "    for key,value in ordered_freqs2:\n",
    "        f.write('{},{}\\n'.format(key,value))"
   ]
  },
  {
   "cell_type": "markdown",
   "metadata": {},
   "source": [
    "Questão 3 (3 pontos)  \n",
    "\n",
    "Christian Goldbach propos que qualquer número ímpar não primo pode ser formado pela soma de um número primo e duas vezes o quadrado de outro número.\n",
    "\n",
    "$9 = 7 + 2×1^2$  \n",
    "$15 = 7 + 2×2^2$  \n",
    "$21 = 3 + 2×3^2$  \n",
    "$25 = 7 + 2×3^2$  \n",
    "$27 = 19 + 2×2^2$  \n",
    "$33 = 31 + 2×1^2$  \n",
    "\n",
    "A conjectura se mostrou falsa. \n",
    "\n",
    "Crie um programa para mostrar qual o primeiro número ímpar não primo que não pode ser escrito pela soma de um primo e duas vezes o quadrado de outro número."
   ]
  },
  {
   "cell_type": "code",
   "execution_count": 6,
   "metadata": {},
   "outputs": [
    {
     "name": "stdout",
     "output_type": "stream",
     "text": [
      "5777\n",
      "CPU times: user 1.44 s, sys: 8 ms, total: 1.45 s\n",
      "Wall time: 1.45 s\n"
     ]
    }
   ],
   "source": [
    "%%time\n",
    "\n",
    "max_impar = 10000\n",
    "max_quad = 100\n",
    "\n",
    "def is_prime(n):\n",
    "    if n <= 3:\n",
    "        return n >= 2\n",
    "    if n % 2 == 0 or n % 3 == 0:\n",
    "        return False\n",
    "    for i in range(5, int(n ** 0.5) + 1, 6):\n",
    "        if n % i == 0 or n % (i + 2) == 0:\n",
    "            return False\n",
    "    return True\n",
    "\n",
    "\n",
    "impares = set(range(1,max_impar,2))\n",
    "primos = set(filter(is_prime,impares))\n",
    "impares_nao_primos = impares - primos\n",
    "impares_nao_primos.discard(1)\n",
    "fatores = [2 * x**2 for x in range(1,max_quad+1)]\n",
    "\n",
    "nlins = len(primos)\n",
    "ncols = len(fatores)\n",
    "array = np.zeros((nlins,ncols))\n",
    "for i in range(nlins):\n",
    "    for j in range(ncols):\n",
    "        array[i,j] =  list(primos)[i] + fatores[j]\n",
    "\n",
    "#https://docs.scipy.org/doc/numpy-1.13.0/reference/generated/numpy.unique.html\n",
    "#https://docs.scipy.org/doc/numpy/reference/generated/numpy.ndarray.flatten.html\n",
    "somas = np.unique(array.flatten())\n",
    "\n",
    "#https://stackoverflow.com/questions/7088625/what-is-the-most-efficient-way-to-check-if-a-value-exists-in-a-numpy-array\n",
    "for numero in impares_nao_primos:\n",
    "    if not np.any(somas == numero):\n",
    "        print(numero)\n",
    "        break"
   ]
  },
  {
   "cell_type": "markdown",
   "metadata": {
    "collapsed": true
   },
   "source": [
    "Questão 4 (3 pontos) \n",
    "\n",
    "Vamos ajudar uma tartaruga a sair de um labirinto?  \n",
    "\n",
    "Implemente em Python uma classe chamada “Tartaruga” com as seguintes propriedades:  \n",
    "\n",
    "- Recebe um labirinto (array do numpy) com 0s nas células desocupadas e 1s nas células ocupadas;\n",
    "- Sorteia, ao iniciar, uma posição aleatória para si neste array (representada por 2) dentre as células com 0 (não ocupadas);  \n",
    "- Possui um método \"andar\", que recebe as ordens:\n",
    "    - Norte, na qual tenta diminuir o índice da linha, mantendo o da coluna;\n",
    "    - Sul, na qual tenta aumentar o índice da linha, mantendo o da coluna;\n",
    "    - Leste, na qual tenta aumentar o índice da coluna, mantendo o da linha;\n",
    "    - Oeste, na qual tenta diminuir o índice da coluna, mantendo o da linha;\n",
    "    - Só pode andar para posições que estão ocupadas com '0'.\n",
    "- Possui um método para mostrar a sua posição no labirinto;\n",
    "- Deve guardar as posições que já visitou e a quantidade de vezes (com método para mostrar este array);\n",
    "- Possui um método \"tenta_sair\" com uma estratégia:  \n",
    "    - Anda para o norte, enquanto for possível; \n",
    "    - Quando não for possível andar para o norte, anda para o sul;\n",
    "    - Quando não for possível andar para o norte ou o sul, anda para o leste;\n",
    "    - Quando não for possível andar para o norte ou o sul ou o leste, anda para oeste;\n",
    "    - Quando passar por uma célula já visitada, deve mudar a sequência de \"tenta_sair\" na forma:  \n",
    "        NSLO -> SLON -> LONS -> ONSL -> ...  \n",
    "- Deve saber a cada passo se saiu do labirinto, mostrando uma mensagem e interrompendo o processo de tentar sair;\n",
    "- Caso não consiga sair em 1000 iterações, deve declarar que é impossível sair.  "
   ]
  },
  {
   "cell_type": "code",
   "execution_count": 7,
   "metadata": {},
   "outputs": [
    {
     "data": {
      "text/plain": [
       "(22, 22)"
      ]
     },
     "execution_count": 7,
     "metadata": {},
     "output_type": "execute_result"
    }
   ],
   "source": [
    "#exemplo de labirinto\n",
    "\n",
    "labirinto = np.array([[1,1,1,1,1,1,1,1,1,1,1,1,1,1,1,1,1,1,1,1,1,1],\n",
    "                      [1,0,0,0,1,0,0,0,1,1,0,1,1,0,0,0,0,0,1,0,0,0],\n",
    "                      [1,0,1,0,0,0,1,0,0,0,0,0,0,0,1,1,1,0,1,0,1,1],\n",
    "                      [1,0,1,0,1,0,0,1,1,0,0,1,0,1,1,0,0,0,1,0,1,1],\n",
    "                      [1,0,0,0,1,0,0,1,1,0,0,1,1,1,1,0,0,0,1,0,1,1],\n",
    "                      [1,0,1,0,1,0,0,0,1,0,0,1,0,0,1,0,0,1,1,0,1,1],\n",
    "                      [1,0,1,0,1,0,0,1,0,0,0,1,0,1,1,1,0,0,1,0,1,1],\n",
    "                      [1,0,0,0,1,0,0,1,1,0,0,0,0,1,1,0,1,0,1,0,1,1],\n",
    "                      [1,0,1,0,1,0,0,1,1,0,0,1,1,1,1,0,0,0,1,0,1,1],\n",
    "                      [1,1,1,0,1,1,1,1,1,1,0,0,0,0,1,1,1,0,1,0,0,1],\n",
    "                      [1,0,0,0,0,0,0,0,0,0,0,1,1,0,0,1,1,0,0,0,0,1],\n",
    "                      [1,0,1,1,1,0,1,1,1,1,1,1,0,0,0,1,1,1,1,1,0,1],\n",
    "                      [1,0,1,0,0,0,1,1,0,1,0,1,0,0,0,1,1,1,1,1,0,1],\n",
    "                      [1,0,1,0,1,1,1,1,0,1,0,1,1,1,0,0,0,0,1,1,0,1],\n",
    "                      [1,0,1,0,0,0,0,0,0,1,0,1,0,1,0,1,1,0,1,1,0,1],\n",
    "                      [1,0,1,1,0,1,1,1,1,1,0,1,0,0,0,1,1,0,1,1,0,1],\n",
    "                      [1,0,1,1,0,0,1,1,1,0,0,1,0,0,1,1,1,0,1,1,0,1],\n",
    "                      [1,1,1,1,1,0,1,1,1,0,1,1,0,0,0,1,1,1,1,1,0,1],\n",
    "                      [1,0,0,0,0,0,1,0,0,0,1,1,1,1,0,1,1,0,0,1,0,1],\n",
    "                      [1,0,1,1,1,1,1,1,1,0,0,0,0,0,0,0,0,1,0,0,0,1],\n",
    "                      [1,0,0,0,0,0,0,0,0,0,0,0,0,0,0,0,0,1,0,1,1,1],\n",
    "                      [1,1,1,1,1,1,1,1,1,1,1,1,1,1,1,1,1,1,0,1,1,1]], dtype=float)\n",
    "\n",
    "labirinto.shape"
   ]
  },
  {
   "cell_type": "code",
   "execution_count": 8,
   "metadata": {},
   "outputs": [
    {
     "data": {
      "text/plain": [
       "<matplotlib.image.AxesImage at 0x7f1e9488a630>"
      ]
     },
     "execution_count": 8,
     "metadata": {},
     "output_type": "execute_result"
    },
    {
     "data": {
      "image/png": "[encoded data removed]",
      "text/plain": [
       "<matplotlib.figure.Figure at 0x7f1e9488a470>"
      ]
     },
     "metadata": {},
     "output_type": "display_data"
    }
   ],
   "source": [
    "fig, ax = plt.subplots(figsize = (8,8))\n",
    "ax.matshow(labirinto, cmap=plt.cm.Blues)"
   ]
  },
  {
   "cell_type": "code",
   "execution_count": 12,
   "metadata": {},
   "outputs": [],
   "source": [
    "class Tartaruga:\n",
    "    def __init__(self,labirinto):\n",
    "        self.labirinto = labirinto.copy()\n",
    "        self.dim = labirinto.shape\n",
    "        self.posicoes = labirinto.copy()\n",
    "        while True:\n",
    "            self.linha = np.random.randint(labirinto.shape[0])\n",
    "            self.coluna = np.random.randint(labirinto.shape[1])\n",
    "            if labirinto[self.linha,self.coluna] == 0:\n",
    "                self.labirinto[self.linha,self.coluna] = 2\n",
    "                break\n",
    "                \n",
    "    def mostra_posicao(self):\n",
    "        fig, ax = plt.subplots(figsize = (8,8))\n",
    "        ax.matshow(self.labirinto, cmap=plt.cm.Blues)           \n",
    "                \n",
    "    def saiu(self, linha, coluna):\n",
    "        if linha < 0 or coluna < 0 or linha > self.shape[0] or coluna > self.shape[1]:\n",
    "            print('Tartaruga Saiu!!')\n",
    "            return True\n",
    "        \n",
    "    def parede(self, linha, coluna):\n",
    "        if self.labirinto[linha,coluna] == 1:\n",
    "            return True\n",
    "                \n",
    "    def andar(self, direcao):\n",
    "        if direcao == 'N' and not self.parede(self.linha-1,self.coluna):\n",
    "            self.labirinto[self.linha,self.coluna] = 0\n",
    "            self.linha -= 1\n",
    "            self.labirinto[self.linha,self.coluna] = 2\n",
    "            return True\n",
    "        if direcao == 'S' and not self.parede(self.linha+1,self.coluna):\n",
    "            self.labirinto[self.linha,self.coluna] = 0\n",
    "            self.linha += 1\n",
    "            self.labirinto[self.linha,self.coluna] = 2\n",
    "            return True\n",
    "        if direcao == 'L' and not self.parede(self.linha,self.coluna+1):\n",
    "            self.labirinto[self.linha,self.coluna] = 0\n",
    "            self.coluna += 1\n",
    "            self.labirinto[self.linha,self.coluna] = 2\n",
    "            return True\n",
    "        if direcao == 'O' and not self.parede(self.linha,self.coluna-1):\n",
    "            self.labirinto[self.linha,self.coluna] = 0\n",
    "            self.coluna -= 1\n",
    "            self.labirinto[self.linha,self.coluna] = 2\n",
    "            return True\n",
    "        return False\n",
    "\n",
    "    def tenta_sair(self):\n",
    "        for i in range(10):\n",
    "            self.mostra_posicao()\n",
    "            direcao = random.choice(list('NSLO'))\n",
    "            sucesso = True\n",
    "            while sucesso:\n",
    "                sucesso = self.andar(direcao)    \n",
    "            time.sleep(1)\n",
    "            #clear_output()\n",
    "    \n",
    "# O algoritmo originalmente pedido não garantia que a tartaruga saísse...\n",
    "#\n",
    "#        def tenta_sair(self):\n",
    "#            for i in range(100):\n",
    "#                self.mostra_posicao()\n",
    "#                sucesso = True\n",
    "#                while sucesso:\n",
    "#                    sucesso = self.andar('N')\n",
    "#                sucesso = True    \n",
    "#                while sucesso:\n",
    "#                    sucesso = self.andar('L')\n",
    "#                sucesso = True    \n",
    "#                while sucesso:\n",
    "#                    sucesso = self.andar('S')\n",
    "#                sucesso = True    \n",
    "#                while sucesso:\n",
    "#                    sucesso = self.andar('O')\n",
    "#                #time.sleep(1)\n",
    "#                clear_output()"
   ]
  },
  {
   "cell_type": "code",
   "execution_count": 13,
   "metadata": {},
   "outputs": [
    {
     "data": {
      "image/png": "[encoded data removed]",
      "text/plain": [
       "<matplotlib.figure.Figure at 0x7f1e93afd6a0>"
      ]
     },
     "metadata": {},
     "output_type": "display_data"
    }
   ],
   "source": [
    "tart = Tartaruga(labirinto)\n",
    "tart.mostra_posicao()"
   ]
  },
  {
   "cell_type": "code",
   "execution_count": 14,
   "metadata": {},
   "outputs": [
    {
     "data": {
      "image/png": "[encoded data removed]",
      "text/plain": [
       "<matplotlib.figure.Figure at 0x7f1e92e68860>"
      ]
     },
     "metadata": {},
     "output_type": "display_data"
    },
    {
     "data": {
      "image/png": "[encoded data removed]",
      "text/plain": [
       "<matplotlib.figure.Figure at 0x7f1e92e1a630>"
      ]
     },
     "metadata": {},
     "output_type": "display_data"
    },
    {
     "data": {
      "image/png": "[encoded data removed]",
      "text/plain": [
       "<matplotlib.figure.Figure at 0x7f1e92d6c2b0>"
      ]
     },
     "metadata": {},
     "output_type": "display_data"
    },
    {
     "data": {
      "image/png": "[encoded data removed]",
      "text/plain": [
       "<matplotlib.figure.Figure at 0x7f1e92d30710>"
      ]
     },
     "metadata": {},
     "output_type": "display_data"
    },
    {
     "data": {
      "image/png": "[encoded data removed]",
      "text/plain": [
       "<matplotlib.figure.Figure at 0x7f1e92d02940>"
      ]
     },
     "metadata": {},
     "output_type": "display_data"
    },
    {
     "data": {
      "image/png": "[encoded data removed]",
      "text/plain": [
       "<matplotlib.figure.Figure at 0x7f1e92cfa160>"
      ]
     },
     "metadata": {},
     "output_type": "display_data"
    },
    {
     "data": {
      "image/png": "[encoded data removed]",
      "text/plain": [
       "<matplotlib.figure.Figure at 0x7f1e92c9df28>"
      ]
     },
     "metadata": {},
     "output_type": "display_data"
    },
    {
     "data": {
      "image/png": "[encoded data removed]",
      "text/plain": [
       "<matplotlib.figure.Figure at 0x7f1e92cd6eb8>"
      ]
     },
     "metadata": {},
     "output_type": "display_data"
    },
    {
     "data": {
      "image/png": "[encoded data removed]",
      "text/plain": [
       "<matplotlib.figure.Figure at 0x7f1e933c5eb8>"
      ]
     },
     "metadata": {},
     "output_type": "display_data"
    },
    {
     "data": {
      "image/png": "[encoded data removed]",
      "text/plain": [
       "<matplotlib.figure.Figure at 0x7f1e93282e10>"
      ]
     },
     "metadata": {},
     "output_type": "display_data"
    }
   ],
   "source": [
    "tart.tenta_sair()"
   ]
  },
  {
   "cell_type": "markdown",
   "metadata": {
    "collapsed": true
   },
   "source": [
    "Questão Bônus (0,5 pontos)  \n",
    "\n",
    "O problema de Monty Hall, também conhecido por paradoxo de Monty Hall é um problema matemático e paradoxo que surgiu a partir de um concurso televisivo dos Estados Unidos chamado \"Let’s Make a Deal\", exibido na década de 1970. O jogo consiste no seguinte: Monty Hall (o apresentador) apresentava 3 portas aos concorrentes, sabendo que atrás de uma delas está um carro (prêmio bom) e que as outras têm prêmios de pouco valor.\n",
    "\n",
    "- Na 1ª etapa o concorrente escolhe uma porta (que ainda não é aberta);  \n",
    "- Em seguida, Monty abre uma das outras duas portas que o concorrente não escolheu, sabendo de antemão que o carro não se encontra na porta que abrirá;  \n",
    "- Agora com duas portas apenas para escolher — pois uma delas já se viu, na 2ª etapa, que não tinha o prêmio — e sabendo que o carro está atrás de uma delas, o concorrente tem que se decidir se permanece com a porta que escolheu no início do jogo e abre-a ou se muda para a outra porta que ainda está fechada para então a abrir.  \n",
    "\n",
    "Demonstre graficamente que é mais provável ganhar o prêmio se trocar de porta do que se não o fizer. Quais as probabilidade de acertar, em ambos os casos?"
   ]
  },
  {
   "cell_type": "code",
   "execution_count": null,
   "metadata": {
    "collapsed": true
   },
   "outputs": [],
   "source": [
    "#seu código aqui"
   ]
  },
  {
   "cell_type": "code",
   "execution_count": null,
   "metadata": {
    "collapsed": true
   },
   "outputs": [],
   "source": []
  }
 ],
 "metadata": {
  "kernelspec": {
   "display_name": "Python 3",
   "language": "python",
   "name": "python3"
  },
  "language_info": {
   "codemirror_mode": {
    "name": "ipython",
    "version": 3
   },
   "file_extension": ".py",
   "mimetype": "text/x-python",
   "name": "python",
   "nbconvert_exporter": "python",
   "pygments_lexer": "ipython3",
   "version": "3.5.2"
  }
 },
 "nbformat": 4,
 "nbformat_minor": 1
}
