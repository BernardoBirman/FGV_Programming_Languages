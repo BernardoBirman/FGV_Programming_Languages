{
 "cells": [
  {
   "cell_type": "markdown",
   "metadata": {
    "deletable": true,
    "editable": true
   },
   "source": [
    "### Exercícios comparativos de linguagens:"
   ]
  },
  {
   "cell_type": "markdown",
   "metadata": {
    "deletable": true,
    "editable": true
   },
   "source": [
    "1) Dado os seguintes algoritmos em linguagens específicas, crie um algoritmo equivalente em linguagem Python\n",
    "\n",
    "https://rosettacode.org/wiki/Sorting_algorithms/Quicksort  "
   ]
  },
  {
   "cell_type": "raw",
   "metadata": {
    "deletable": true,
    "editable": true
   },
   "source": [
    "# R\n",
    "\n",
    "qsort <- function(v) {\n",
    "  if (length(v) > 1) \n",
    "  {\n",
    "    pivot <- (min(v) + max(v))/2.0  # Could also use pivot <- median(v)\n",
    "    c(qsort(v[v < pivot]), v[v == pivot], qsort(v[v > pivot])) \n",
    "  } else v\n",
    "}\n",
    " \n",
    "N <- 100\n",
    "vs <- runif(N)\n",
    "system.time(u <- qsort(vs))\n",
    "print(u)"
   ]
  },
  {
   "cell_type": "raw",
   "metadata": {
    "deletable": true,
    "editable": true
   },
   "source": [
    "# Common Lisp\n",
    "\n",
    "(defun quicksort (list &aux (pivot (car list)) )\n",
    "  (if (cdr list)\n",
    "      (nconc (quicksort (remove-if-not #'(lambda (x) (< x pivot)) list))\n",
    "             (remove-if-not #'(lambda (x) (= x pivot)) list)\n",
    "             (quicksort (remove-if-not #'(lambda (x) (> x pivot)) list)))\n",
    "      list))"
   ]
  },
  {
   "cell_type": "code",
   "execution_count": null,
   "metadata": {
    "collapsed": true,
    "deletable": true,
    "editable": true
   },
   "outputs": [],
   "source": [
    "#C\n",
    "\n",
    "#include <stdio.h>\n",
    "void quicksort(int *A, int len);\n",
    " \n",
    "int main (void) {\n",
    "  int a[] = {4, 65, 2, -31, 0, 99, 2, 83, 782, 1};\n",
    "  int n = sizeof a / sizeof a[0];\n",
    "  int i;\n",
    "  for (i = 0; i < n; i++) {\n",
    "    printf(\"%d \", a[i]);\n",
    "  }\n",
    "  printf(\"\\n\");\n",
    "  quicksort(a, n);\n",
    "  for (i = 0; i < n; i++) {\n",
    "    printf(\"%d \", a[i]);\n",
    "  }\n",
    "  printf(\"\\n\");\n",
    "  return 0;\n",
    "}"
   ]
  },
  {
   "cell_type": "code",
   "execution_count": null,
   "metadata": {
    "collapsed": true,
    "deletable": true,
    "editable": true
   },
   "outputs": [],
   "source": [
    "# Python\n",
    "\n",
    "def quickSort(arr):\n",
    "    less = []\n",
    "    pivotList = []\n",
    "    more = []\n",
    "    if len(arr) <= 1:\n",
    "        return arr\n",
    "    else:\n",
    "        pivot = arr[0]\n",
    "        for i in arr:\n",
    "            if i < pivot:\n",
    "                less.append(i)\n",
    "            elif i > pivot:\n",
    "                more.append(i)\n",
    "            else:\n",
    "                pivotList.append(i)\n",
    "        less = quickSort(less)\n",
    "        more = quickSort(more)\n",
    "        return less + pivotList + more\n",
    " \n",
    "a = [4, 65, 2, -31, 0, 99, 83, 782, 1]\n",
    "a = quickSort(a)"
   ]
  },
  {
   "cell_type": "markdown",
   "metadata": {
    "deletable": true,
    "editable": true
   },
   "source": [
    "2) Escreva um código em R para receber um vetor de inteiros e retornar um vetor com os inteiros pares dentre os inteiros da primeira lista"
   ]
  },
  {
   "cell_type": "code",
   "execution_count": null,
   "metadata": {
    "collapsed": true,
    "deletable": true,
    "editable": true
   },
   "outputs": [],
   "source": [
    "v <- c(1:20)\n",
    "filtra.pares <- function(v) {\n",
    "   for(i in v) {\n",
    "      b <- i^2\n",
    "      print(b)\n",
    "   }\n",
    "}\n",
    "\n",
    "filtra.pares(v)"
   ]
  },
  {
   "cell_type": "markdown",
   "metadata": {
    "deletable": true,
    "editable": true
   },
   "source": [
    "3) Escreva um código em Common Lisp para receber um vetor de inteiros e retornar um vetor com os inteiros pares dentre os inteiros da primeira lista"
   ]
  },
  {
   "cell_type": "code",
   "execution_count": null,
   "metadata": {
    "collapsed": true,
    "deletable": true,
    "editable": true
   },
   "outputs": [],
   "source": []
  },
  {
   "cell_type": "markdown",
   "metadata": {
    "deletable": true,
    "editable": true
   },
   "source": [
    "4) Dada a tabela \"pacientes\", no banco de dados \"Medicina\", ilustrada abaixo:  \n",
    "\n",
    "\n",
    "| idade | altura | peso | pressao_d | pressao_s |nome  |\n",
    "|-------|--------|------|-----------|-----------|------|\n",
    "| 23    | 183    | 73   | 8         | 12        |Rubens|\n",
    "| 42    | 167    | 60   | 7         | 11        |Maria |\n",
    "| 34    | 177    | 77   | 9         | 13        |Carlos|\n",
    "\n",
    "\n",
    "\n",
    "Escreva um script em Python + SQL para construir um dicionário tendo os nomes como chave e as idades como valores. "
   ]
  },
  {
   "cell_type": "code",
   "execution_count": null,
   "metadata": {
    "collapsed": true,
    "deletable": true,
    "editable": true
   },
   "outputs": [],
   "source": []
  }
 ],
 "metadata": {
  "kernelspec": {
   "display_name": "Python 3",
   "language": "python",
   "name": "python3"
  },
  "language_info": {
   "codemirror_mode": {
    "name": "ipython",
    "version": 3
   },
   "file_extension": ".py",
   "mimetype": "text/x-python",
   "name": "python",
   "nbconvert_exporter": "python",
   "pygments_lexer": "ipython3",
   "version": "3.5.3"
  }
 },
 "nbformat": 4,
 "nbformat_minor": 2
}
