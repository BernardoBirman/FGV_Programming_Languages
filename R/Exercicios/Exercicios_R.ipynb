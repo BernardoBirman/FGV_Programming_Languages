{
 "cells": [
  {
   "cell_type": "markdown",
   "metadata": {},
   "source": [
    "### Exercícios "
   ]
  },
  {
   "cell_type": "markdown",
   "metadata": {},
   "source": [
    "1) Construa uma função que retorne o enésimo número primo"
   ]
  },
  {
   "cell_type": "code",
   "execution_count": 4,
   "metadata": {},
   "outputs": [
    {
     "name": "stdout",
     "output_type": "stream",
     "text": [
      "[1] 8\n"
     ]
    }
   ],
   "source": [
    "lista.primos <- c(2)\n",
    "gera.primos <- function(n) {\n",
    "    if(n == 1){\n",
    "        print(2)\n",
    "    } else {\n",
    "        i <-3\n",
    "        repeat {\n",
    "            e_primo <- TRUE\n",
    "            for (p in lista.primos) {\n",
    "                if(i%%p != 0){\n",
    "                    e_primo <- FALSE\n",
    "                }\n",
    "            }\n",
    "            if(e_primo == TRUE){\n",
    "                lista.primos <- append(lista.primos, i)\n",
    "            }\n",
    "            i <- i + 1\n",
    "            if(length(lista.primos) == n){\n",
    "                return(tail(lista.primos, n=1))\n",
    "            }\n",
    "        }\n",
    "    }\n",
    "}\n",
    "\n",
    "print(gera.primos(3))"
   ]
  },
  {
   "cell_type": "code",
   "execution_count": null,
   "metadata": {},
   "outputs": [],
   "source": []
  }
 ],
 "metadata": {
  "kernelspec": {
   "display_name": "R",
   "language": "R",
   "name": "ir"
  },
  "language_info": {
   "codemirror_mode": "r",
   "file_extension": ".r",
   "mimetype": "text/x-r-source",
   "name": "R",
   "pygments_lexer": "r",
   "version": "3.2.3"
  }
 },
 "nbformat": 4,
 "nbformat_minor": 2
}
